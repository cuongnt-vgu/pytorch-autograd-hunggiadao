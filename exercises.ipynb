{
 "cells": [
  {
   "cell_type": "code",
   "execution_count": 31,
   "metadata": {},
   "outputs": [],
   "source": [
    "from torch import nn\n",
    "import torch"
   ]
  },
  {
   "cell_type": "markdown",
   "metadata": {},
   "source": [
    "##### Attention:\n",
    "For this lab, there are no local answers for the questions in learntools. However, there are some assertions for the first 4 questions. You should pass all of the assertions before submitting to the autograding.\n",
    "\n",
    "Some of the questions use mathematical symbols and equations to depict the scenario. These are just some basic \"formal\" definitions and you should understand them. In case you haven't understood them, read again and give yourself sometime to ponder. If there is any error or details in the questions that heavily confuse you, please post your concerns on Google Classroom. "
   ]
  },
  {
   "cell_type": "markdown",
   "metadata": {},
   "source": [
    "## Questions"
   ]
  },
  {
   "cell_type": "markdown",
   "metadata": {},
   "source": [
    "### Q1: Given a function $f(x) = x^2 + 3x + 8$, return the gradient of $x$ when $x=2.0$ using pytorch autograd. The gradient tensor should have type torch.float32 and dim=0."
   ]
  },
  {
   "cell_type": "code",
   "execution_count": 32,
   "metadata": {},
   "outputs": [
    {
     "name": "stdout",
     "output_type": "stream",
     "text": [
      "tensor(7.)\n",
      "torch.float32\n",
      "0\n"
     ]
    }
   ],
   "source": [
    "def exercise_1() -> torch.Tensor:\n",
    "\tx = torch.tensor(2.0, dtype=torch.float32, requires_grad=True)\n",
    "\tf = x**2 + 3*x + 8\n",
    "\n",
    "\t# Compute the gradient\n",
    "\tf.backward()\n",
    "\tgradient = x.grad\n",
    "\n",
    "\tprint(gradient)  # tensor(7., dtype=torch.float32)\n",
    "\tprint(gradient.dtype)  # torch.float32\n",
    "\tprint(gradient.dim())  # 0\n",
    "\n",
    "\treturn gradient\n",
    "\t# raise NotImplementedError\n",
    "\n",
    "ex1_sol = exercise_1()\n",
    "assert torch.equal(ex1_sol, torch.tensor(7.0))"
   ]
  },
  {
   "cell_type": "markdown",
   "metadata": {},
   "source": [
    "### Q2: A typical layer in a Neural Network would look like $f(x) = w_1 x_1 + w_2 x_2 + w_3 x_3 + ... + b$, where $w_j$ is the j-th weight of the function and $b$ is its bias. This function outputs a result for a multi-dimension input, where $x_j$ is the j-th feature of the input. Implement this function, return the gradients of each weight for a given input `x` and the output using `tuple` with the format `(output, weight_grads_tensor)`. The weights should be randomized using `torch.randn()` and the bias must be set to $5.0$. The input used by the autograder will be the same size as the one given below."
   ]
  },
  {
   "cell_type": "code",
   "execution_count": 33,
   "metadata": {},
   "outputs": [
    {
     "name": "stdout",
     "output_type": "stream",
     "text": [
      "input shape: torch.Size([5])\n",
      "weights shape: torch.Size([5])\n"
     ]
    }
   ],
   "source": [
    "x = torch.tensor([1, 2, 3, 4, 5])\n",
    "\n",
    "def exercise_2(x) -> tuple:\n",
    "\t# all the output and gradients are tensors\n",
    "\ttorch.manual_seed(0) # must set seed=0 before random your weight\n",
    "\n",
    "\tx = x.clone().detach().float().requires_grad_(True)\n",
    "\t# x = torch.tensor(x, dtype=torch.float32, requires_grad=True)\n",
    "\tprint(\"input shape:\", x.shape)  # torch.Size([5])\n",
    "\t\n",
    "\t# Initialize weights and bias\n",
    "\tweights = torch.randn(x.shape[0], dtype=torch.float32, requires_grad=True)\n",
    "\tprint(\"weights shape:\", weights.shape)  # torch.Size([5])\n",
    "\tbias = torch.tensor(5.0, dtype=torch.float32)\n",
    "\n",
    "\toutput = torch.dot(weights, x) + bias\n",
    "\toutput.backward()\n",
    "\n",
    "\t# Return the output and the gradient of the weights\n",
    "\tweight_grads_tensor = weights.grad\n",
    "\treturn output.item(), weight_grads_tensor\n",
    "\t\n",
    "\t# raise NotImplementedError\n",
    "\t# you must return in this format\n",
    "\t# return (output, weight_grads_tensor)\n",
    "\n",
    "ex2_sol = exercise_2(x)\n",
    "\n",
    "assert (ex2_sol[0] - torch.tensor(-3.7311) < 1e-4).item()\n",
    "assert torch.equal(ex2_sol[1], torch.tensor([1, 2, 3, 4, 5], dtype=torch.float32))"
   ]
  },
  {
   "cell_type": "markdown",
   "metadata": {},
   "source": [
    "### Q3: Suppose each feature $x_j$ needs a separate function $f_j(x_j)$, where $f_j(x_j) = w_j x_j + b_j$. In other words, each feature requires a function, which has a separate set of 1 weight and 1 bias. Therefore, the output $y$ of your function $G(x)=[f_1(x_1), f_2(x_2), ..., f_n(x_n)]$ should be $y = [(w_1 x_1 + b_1), (w_2 x_2 + b_2), ..., (w_n x_n + b_n)]$ (**note:** these are matrices written lazily with markdown). Implement the function $G(x)$, return the output and the gradient sets for each function for a given `x`. The weights should be randomized using `torch.randn()`, and the bias is the same as $j$ of $f_j()$ (for example: $b_1 = 1.0$, $b_2 = 2.0$). The input used by the autograder will be the same size as the one given below."
   ]
  },
  {
   "cell_type": "code",
   "execution_count": 41,
   "metadata": {},
   "outputs": [
    {
     "name": "stdout",
     "output_type": "stream",
     "text": [
      "tensor([1., 2., 3., 4., 5.], requires_grad=True)\n",
      "input shape: 5\n",
      "y =  tensor([[ 2.5410],\n",
      "        [ 1.4131],\n",
      "        [-3.5364],\n",
      "        [ 6.2737],\n",
      "        [-0.4226]])\n",
      "tensor([[-3.8147e-06,  1.1279e+00,  6.0774e+00, -3.7327e+00,  2.9636e+00],\n",
      "        [-1.1279e+00,  4.2200e-05,  4.9495e+00, -4.8606e+00,  1.8357e+00],\n",
      "        [-6.0774e+00, -4.9495e+00,  3.1710e-05, -9.8101e+00, -3.1138e+00],\n",
      "        [ 3.7327e+00,  4.8606e+00,  9.8101e+00,  2.4796e-05,  6.6963e+00],\n",
      "        [-2.9636e+00, -1.8357e+00,  3.1138e+00, -6.6963e+00, -1.1712e-05]])\n"
     ]
    },
    {
     "ename": "AssertionError",
     "evalue": "",
     "output_type": "error",
     "traceback": [
      "\u001b[1;31m---------------------------------------------------------------------------\u001b[0m",
      "\u001b[1;31mAssertionError\u001b[0m                            Traceback (most recent call last)",
      "Cell \u001b[1;32mIn[41], line 42\u001b[0m\n\u001b[0;32m     37\u001b[0m \t\u001b[38;5;28;01mreturn\u001b[39;00m y, gradients\n\u001b[0;32m     39\u001b[0m \t\u001b[38;5;66;03m# raise NotImplementedError\u001b[39;00m\n\u001b[0;32m     40\u001b[0m \t\u001b[38;5;66;03m# return (output, weight_grads_tensor)\u001b[39;00m\n\u001b[1;32m---> 42\u001b[0m ex3_sol \u001b[38;5;241m=\u001b[39m \u001b[43mexercise_3\u001b[49m\u001b[43m(\u001b[49m\u001b[43mx\u001b[49m\u001b[43m)\u001b[49m\n\u001b[0;32m     43\u001b[0m \u001b[38;5;28;01massert\u001b[39;00m torch\u001b[38;5;241m.\u001b[39mall((ex3_sol[\u001b[38;5;241m0\u001b[39m] \u001b[38;5;241m-\u001b[39m torch\u001b[38;5;241m.\u001b[39mtensor([ \u001b[38;5;241m2.5410\u001b[39m,  \u001b[38;5;241m1.4131\u001b[39m, \u001b[38;5;241m-\u001b[39m\u001b[38;5;241m3.5364\u001b[39m,  \u001b[38;5;241m6.2737\u001b[39m, \u001b[38;5;241m-\u001b[39m\u001b[38;5;241m0.4226\u001b[39m ], dtype\u001b[38;5;241m=\u001b[39mtorch\u001b[38;5;241m.\u001b[39mfloat32)) \u001b[38;5;241m<\u001b[39m \u001b[38;5;241m5e-4\u001b[39m)\u001b[38;5;241m.\u001b[39mitem()\n\u001b[0;32m     44\u001b[0m \u001b[38;5;28;01massert\u001b[39;00m torch\u001b[38;5;241m.\u001b[39mequal(ex3_sol[\u001b[38;5;241m1\u001b[39m], torch\u001b[38;5;241m.\u001b[39mtensor([\u001b[38;5;241m1\u001b[39m, \u001b[38;5;241m2\u001b[39m, \u001b[38;5;241m3\u001b[39m, \u001b[38;5;241m4\u001b[39m, \u001b[38;5;241m5\u001b[39m], dtype\u001b[38;5;241m=\u001b[39mtorch\u001b[38;5;241m.\u001b[39mfloat32))\n",
      "Cell \u001b[1;32mIn[41], line 34\u001b[0m, in \u001b[0;36mexercise_3\u001b[1;34m(x)\u001b[0m\n\u001b[0;32m     32\u001b[0m test \u001b[38;5;241m=\u001b[39m torch\u001b[38;5;241m.\u001b[39mtensor([ \u001b[38;5;241m2.5410\u001b[39m,  \u001b[38;5;241m1.4131\u001b[39m, \u001b[38;5;241m-\u001b[39m\u001b[38;5;241m3.5364\u001b[39m,  \u001b[38;5;241m6.2737\u001b[39m, \u001b[38;5;241m-\u001b[39m\u001b[38;5;241m0.4226\u001b[39m ], dtype\u001b[38;5;241m=\u001b[39mtorch\u001b[38;5;241m.\u001b[39mfloat32)\n\u001b[0;32m     33\u001b[0m \u001b[38;5;28mprint\u001b[39m(y \u001b[38;5;241m-\u001b[39m test)\n\u001b[1;32m---> 34\u001b[0m \u001b[38;5;28;01massert\u001b[39;00m torch\u001b[38;5;241m.\u001b[39mall((y \u001b[38;5;241m-\u001b[39m torch\u001b[38;5;241m.\u001b[39mtensor([ \u001b[38;5;241m2.5410\u001b[39m,  \u001b[38;5;241m1.4131\u001b[39m, \u001b[38;5;241m-\u001b[39m\u001b[38;5;241m3.5364\u001b[39m,  \u001b[38;5;241m6.2737\u001b[39m, \u001b[38;5;241m-\u001b[39m\u001b[38;5;241m0.4226\u001b[39m ], dtype\u001b[38;5;241m=\u001b[39mtorch\u001b[38;5;241m.\u001b[39mfloat32)) \u001b[38;5;241m<\u001b[39m \u001b[38;5;241m5e-4\u001b[39m)\u001b[38;5;241m.\u001b[39mitem()\n\u001b[0;32m     35\u001b[0m \u001b[38;5;28mprint\u001b[39m(\u001b[38;5;124m\"\u001b[39m\u001b[38;5;124mpassed assertion\u001b[39m\u001b[38;5;124m\"\u001b[39m)\n\u001b[0;32m     37\u001b[0m \u001b[38;5;28;01mreturn\u001b[39;00m y, gradients\n",
      "\u001b[1;31mAssertionError\u001b[0m: "
     ]
    }
   ],
   "source": [
    "x = torch.tensor([1, 2, 3, 4, 5])\n",
    "\n",
    "def exercise_3(x) -> tuple:\n",
    "\t# all the output and gradients are tensors\n",
    "\ttorch.manual_seed(0) # must set seed=0 before random your weight\n",
    "\n",
    "\tx = x.clone().detach().float().requires_grad_(True)\n",
    "\tprint(x)\n",
    "\tn = x.shape[0] # 5\n",
    "\tprint(\"input shape:\", n)  # 5\n",
    "\t\n",
    "\ty = []\n",
    "\tfor j in range(n):\n",
    "\t\tw_j = torch.randn(1)\n",
    "\t\t# print(\"weight:\", w_j)\n",
    "\t\tb_j = float(j + 1)\n",
    "\t\t# print(\"bias:\", b_j)\n",
    "\t\tf_j = w_j * x[j] + b_j\n",
    "\t\ty.append(f_j)\n",
    "\n",
    "\t# print(y)\n",
    "\ty = torch.stack(y)                 # Convert list to tensor\n",
    "\t# print(y)\n",
    "\n",
    "\t# Compute gradients: dy/dx\n",
    "\ty_sum = y.sum()\n",
    "\ty_sum.backward()                   # Backprop through the sum to get all gradients\n",
    "\n",
    "\tgradients = x.grad.clone()         # Store gradients\n",
    "\ty = y.clone().detach().float() # remove the gradient tracking\n",
    "\tprint(\"y = \", y)\n",
    "\ttest = torch.tensor([ 2.5410,  1.4131, -3.5364,  6.2737, -0.4226 ], dtype=torch.float32)\n",
    "\tprint(y - test)\n",
    "\tassert torch.all((y - torch.tensor([ 2.5410,  1.4131, -3.5364,  6.2737, -0.4226 ], dtype=torch.float32)) < 5e-4).item()\n",
    "\tprint(\"passed assertion\")\n",
    "\n",
    "\treturn y, gradients\n",
    "\n",
    "\t# raise NotImplementedError\n",
    "\t# return (output, weight_grads_tensor)\n",
    "\n",
    "ex3_sol = exercise_3(x)\n",
    "assert torch.all((ex3_sol[0] - torch.tensor([ 2.5410,  1.4131, -3.5364,  6.2737, -0.4226 ], dtype=torch.float32)) < 5e-4).item()\n",
    "assert torch.equal(ex3_sol[1], torch.tensor([1, 2, 3, 4, 5], dtype=torch.float32))\n",
    "# q3.check()"
   ]
  },
  {
   "cell_type": "markdown",
   "metadata": {},
   "source": [
    "### Q4: Using the function $f(x)$ similar to the one in question 2, implement the function with random weights and bias (must use `torch.manual_seed(0)` before each initialization). Calculate the Mean Squared Error between the `target` and your function prediction on the `data` as a loss metric, then return a tuple containing the gradients of your function weights and bias based on the calculated loss."
   ]
  },
  {
   "cell_type": "code",
   "execution_count": null,
   "metadata": {},
   "outputs": [],
   "source": [
    "data = torch.tensor([2.0, 3.0, 4.0, 5.0, 6.0, 7.0, 8.0, 9.0, 10.0, 11.0])\n",
    "target = torch.tensor([2.0])\n",
    "\n",
    "def exercise_4(data, target) -> tuple:\n",
    "    # both gradients are tensors\n",
    "\n",
    "    raise NotImplementedError\n",
    "    # you must return in this format\n",
    "    # return (weight_grads_tensor, bias_grads_tensor)\n",
    "\n",
    "ex4_sol = exercise_4(data, target)\n",
    "assert ex4_sol[0].dim() == 1 and ex4_sol[1].dim() == 1, print(\"All tensors must have dim == 1\")\n",
    "assert torch.all((ex4_sol[0] - torch.tensor([-85.1518, -127.7277, -170.3036, -212.8795, -255.4553, -298.0312, -340.6071, -383.1830, -425.7589, -468.3348], dtype=torch.float32)) < 5e-4)\n",
    "assert torch.all((ex4_sol[1] - torch.tensor([-42.5759], dtype=torch.float32)) < 5e-4)"
   ]
  },
  {
   "cell_type": "markdown",
   "metadata": {},
   "source": [
    "### Q5: This question worth 40% the points of this lab. Your solution for this question will be graded manually by the TAs, hence you will be informed later for the total points for this lab after the deadline has been met."
   ]
  },
  {
   "cell_type": "markdown",
   "metadata": {},
   "source": [
    "**Note**: This question will not focus on getting the right results as your implementation is more important. Therefore there will be no local answer or autograding."
   ]
  },
  {
   "cell_type": "markdown",
   "metadata": {},
   "source": [
    "#### Create a small neural network consisting 2 Linear layers, each followed by a Sigmoid activation function. The template code has been provided below including the return format (`x` should be replaced by the final `tensor` after the forward pass). Your code must use layers and functions provided by `pytorch`. Initialize all necessary components that can be used during the training phase including a Binary Cross Entropy Loss function and a Gradient Descent optimizer. Train your model for 2 epochs with a proper train loop, then make a prediction on a given `val_x` and return your prediction."
   ]
  },
  {
   "cell_type": "markdown",
   "metadata": {},
   "source": [
    "**Note**: the first Linear Layer can have any `in_features` and `out_features`, but the last Linear Layer must have `out_features=2`. Your model will consume the whole input for each epoch, so you don't need to separate the input into batches."
   ]
  },
  {
   "cell_type": "markdown",
   "metadata": {},
   "source": [
    "*Context*: This part is not necessary for your implementation, but it could help you to understand the work that your network is simulating. The `train_x` consists grades for 5 subjects of 20 students, with the minimum grade is 1 and the maximum is 10. The problem is a classification task, when your model predicts if a student is good or bad based on their 5 grades. That is the reason why the final layer must have 2 output features, which correspond to the 2 classes \"good\" and \"bad\"."
   ]
  },
  {
   "cell_type": "code",
   "execution_count": null,
   "metadata": {},
   "outputs": [],
   "source": [
    "train_x = torch.randint(1, 10, (20, 5), dtype=torch.float32) # input\n",
    "train_y = (train_x.sum(1) > 30).float() # target\n",
    "\n",
    "val_x = torch.randint(3, 10, (10, 5), dtype=torch.float32)\n",
    "\n",
    "def exercise_5(train_x, train_y, val_x) -> torch.Tensor:\n",
    "\n",
    "    class MyNetwork(nn.Module):\n",
    "        def __init__(self):\n",
    "            raise NotImplementedError\n",
    "\n",
    "        def forward(self, x):\n",
    "            # layer 1\n",
    "\n",
    "            # layer 2\n",
    "\n",
    "            return x[:,0] # replace (or not) x with your tensor variable\n",
    "\n",
    "    loss = __\n",
    "    model = __\n",
    "    optimizer = __\n",
    "\n",
    "    # train loop\n",
    "    for i in range(2):\n",
    "        output = model(train_x)\n",
    "        \n",
    "        # your implementation\n",
    "\n",
    "    raise NotImplementedError\n",
    "\n",
    "ex5_sol = exercise_5(train_x=train_x, train_y=train_y, val_x=val_x)"
   ]
  }
 ],
 "metadata": {
  "kernelspec": {
   "display_name": "Python 3",
   "language": "python",
   "name": "python3"
  },
  "language_info": {
   "codemirror_mode": {
    "name": "ipython",
    "version": 3
   },
   "file_extension": ".py",
   "mimetype": "text/x-python",
   "name": "python",
   "nbconvert_exporter": "python",
   "pygments_lexer": "ipython3",
   "version": "3.9.13"
  }
 },
 "nbformat": 4,
 "nbformat_minor": 2
}
